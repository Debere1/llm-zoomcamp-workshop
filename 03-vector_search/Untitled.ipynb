{
 "cells": [
  {
   "cell_type": "code",
   "execution_count": null,
   "id": "37fae898-b1ab-4511-b196-e46c8d489d38",
   "metadata": {},
   "outputs": [],
   "source": []
  }
 ],
 "metadata": {
  "kernelspec": {
   "display_name": "",
   "name": ""
  },
  "language_info": {
   "name": ""
  }
 },
 "nbformat": 4,
 "nbformat_minor": 5
}
